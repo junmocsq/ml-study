{
  "nbformat": 4,
  "nbformat_minor": 0,
  "metadata": {
    "colab": {
      "provenance": [],
      "gpuType": "T4",
      "authorship_tag": "ABX9TyMNSyz6bmVmXq5dC6Ji+rjd",
      "include_colab_link": true
    },
    "kernelspec": {
      "name": "python3",
      "display_name": "Python 3"
    },
    "language_info": {
      "name": "python"
    },
    "accelerator": "GPU"
  },
  "cells": [
    {
      "cell_type": "markdown",
      "metadata": {
        "id": "view-in-github",
        "colab_type": "text"
      },
      "source": [
        "<a href=\"https://colab.research.google.com/github/junmocsq/ml-study/blob/master/pytorch_study.ipynb\" target=\"_parent\"><img src=\"https://colab.research.google.com/assets/colab-badge.svg\" alt=\"Open In Colab\"/></a>"
      ]
    },
    {
      "cell_type": "code",
      "execution_count": 3,
      "metadata": {
        "id": "BM626r489Tuh"
      },
      "outputs": [],
      "source": [
        "import torch\n",
        "import numpy as np"
      ]
    },
    {
      "cell_type": "code",
      "source": [
        "np1 = np.random.randn(3,4,5)\n",
        "np1.dtype"
      ],
      "metadata": {
        "colab": {
          "base_uri": "https://localhost:8080/"
        },
        "id": "VW6iEUiE9YZv",
        "outputId": "a8a3d92e-995c-493f-93d6-aa24b50eeb3f"
      },
      "execution_count": 5,
      "outputs": [
        {
          "output_type": "execute_result",
          "data": {
            "text/plain": [
              "dtype('float64')"
            ]
          },
          "metadata": {},
          "execution_count": 5
        }
      ]
    },
    {
      "cell_type": "code",
      "source": [
        "torch.Tensor(np1)"
      ],
      "metadata": {
        "id": "NPUxMt2l9sO3",
        "colab": {
          "base_uri": "https://localhost:8080/"
        },
        "outputId": "3df857f1-ad4c-437b-aa9f-601e0ee91db5"
      },
      "execution_count": 6,
      "outputs": [
        {
          "output_type": "execute_result",
          "data": {
            "text/plain": [
              "tensor([[[-1.8605,  0.5415,  0.2447,  0.8671,  2.4795],\n",
              "         [ 0.0808,  1.7222, -0.9489,  1.8908, -0.6401],\n",
              "         [ 0.2571, -0.0609, -0.5556, -1.6078,  1.9929],\n",
              "         [ 0.4221,  0.7807,  1.6533, -0.3127,  0.7416]],\n",
              "\n",
              "        [[ 1.4545,  0.3718,  0.9692, -0.9580, -1.1942],\n",
              "         [-0.0866,  0.1294,  0.5838, -0.2237,  0.3241],\n",
              "         [-0.2353, -1.0257,  0.1596,  0.0907,  0.1711],\n",
              "         [-0.7916,  2.1709, -0.2461, -0.7623,  0.9128]],\n",
              "\n",
              "        [[-1.2366,  1.2795, -0.0627, -2.0703, -1.5275],\n",
              "         [-0.0872, -1.0494, -0.4245,  1.2574, -0.3448],\n",
              "         [-1.8511,  0.6422, -0.1204,  1.2069, -0.2807],\n",
              "         [-1.8868, -0.6363,  0.9263,  0.1330, -0.9312]]])"
            ]
          },
          "metadata": {},
          "execution_count": 6
        }
      ]
    },
    {
      "cell_type": "code",
      "source": [
        "torch.ones(4,5).reshape(2,-1)"
      ],
      "metadata": {
        "colab": {
          "base_uri": "https://localhost:8080/"
        },
        "id": "E7bybDn1Cup6",
        "outputId": "0caa2fe4-ee68-4216-d002-cce69c05b9a2"
      },
      "execution_count": 12,
      "outputs": [
        {
          "output_type": "execute_result",
          "data": {
            "text/plain": [
              "tensor([[1., 1., 1., 1., 1., 1., 1., 1., 1., 1.],\n",
              "        [1., 1., 1., 1., 1., 1., 1., 1., 1., 1.]])"
            ]
          },
          "metadata": {},
          "execution_count": 12
        }
      ]
    },
    {
      "cell_type": "code",
      "source": [],
      "metadata": {
        "id": "NeTVc1M2DiyS"
      },
      "execution_count": null,
      "outputs": []
    }
  ]
}